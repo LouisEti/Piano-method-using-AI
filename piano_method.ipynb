{
 "cells": [
  {
   "cell_type": "code",
   "execution_count": 1,
   "metadata": {},
   "outputs": [],
   "source": [
    "from chords_and_notes_dict import * \n",
    "import threading \n",
    "import tkinter as tk\n",
    "from PIL import ImageTk, Image\n",
    "import mido\n",
    "import random \n",
    "import os\n",
    "from functools import partial\n",
    "import pickle\n",
    "import time\n",
    "from datetime import datetime\n",
    "import copy\n",
    "\n"
   ]
  },
  {
   "cell_type": "code",
   "execution_count": null,
   "metadata": {},
   "outputs": [],
   "source": [
    "def open_port(input: str, output: str): \n",
    "    \"\"\" \n",
    "    Input_port: MIDI controller to send MIDI messages \n",
    "    Output_port: Virtual port opened in Ableton to convey the MIDI message in sound\n",
    "    \"\"\"\n",
    "\n",
    "    global input_port, output_port\n",
    "\n",
    "    #if input_port and output_port are AVAILABLE\n",
    "    try: \n",
    "        input_port = mido.open_input(input)\n",
    "        output_port = mido.open_output(output)\n",
    "\n",
    "    #if input_port and output_port are NOT AVAILABLE    \n",
    "    except Exception:\n",
    "        close_port(input_port, output_port)\n",
    "        input_port = mido.open_input(input)\n",
    "        output_port = mido.open_output(output)\n",
    "    \n",
    "    \n",
    "    return input_port, output_port \n",
    "\n",
    "\n",
    "def close_port(input_port, output_port):\n",
    "    \"\"\" Close input and output ports\"\"\"\n",
    "    input_port.close()\n",
    "    output_port.close()\n",
    "\n",
    "\n"
   ]
  }
 ],
 "metadata": {
  "kernelspec": {
   "display_name": "venv_piano",
   "language": "python",
   "name": "python3"
  },
  "language_info": {
   "codemirror_mode": {
    "name": "ipython",
    "version": 3
   },
   "file_extension": ".py",
   "mimetype": "text/x-python",
   "name": "python",
   "nbconvert_exporter": "python",
   "pygments_lexer": "ipython3",
   "version": "3.10.11"
  }
 },
 "nbformat": 4,
 "nbformat_minor": 2
}
