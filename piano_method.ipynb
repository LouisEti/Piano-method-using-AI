{
 "cells": [
  {
   "cell_type": "code",
   "execution_count": 1,
   "metadata": {},
   "outputs": [],
   "source": [
    "from chords_and_notes_dict import * \n",
    "import threading \n",
    "import tkinter as tk\n",
    "from PIL import ImageTk, Image\n",
    "import mido\n",
    "import random \n",
    "import os\n",
    "from functools import partial\n",
    "import pickle\n",
    "import time\n",
    "from datetime import datetime\n",
    "import copy\n",
    "import rtmidi as rt"
   ]
  },
  {
   "cell_type": "markdown",
   "metadata": {},
   "source": [
    "# Phases de test"
   ]
  },
  {
   "cell_type": "code",
   "execution_count": 12,
   "metadata": {},
   "outputs": [],
   "source": []
  },
  {
   "cell_type": "code",
   "execution_count": 5,
   "metadata": {},
   "outputs": [],
   "source": []
  },
  {
   "cell_type": "code",
   "execution_count": 8,
   "metadata": {},
   "outputs": [
    {
     "data": {
      "text/plain": [
       "('2- KOMPLETE KONTROL - 1 3', 'Microsoft GS Wavetable Synth 0')"
      ]
     },
     "execution_count": 8,
     "metadata": {},
     "output_type": "execute_result"
    }
   ],
   "source": []
  },
  {
   "cell_type": "markdown",
   "metadata": {},
   "source": [
    "# Script"
   ]
  },
  {
   "cell_type": "code",
   "execution_count": 19,
   "metadata": {},
   "outputs": [],
   "source": [
    "def open_port(input_name: str, output_name: str): \n",
    "    \"\"\" \n",
    "    Input_port: MIDI controller to send MIDI messages \n",
    "    Output_port: Corresponds to the sound that the programm returns after getting MIDI message --> it can be no sound \n",
    "\n",
    "    Case 1: If input and output ports are available --> open them with the names given in parameters\n",
    "    Case 2: If input and output ports are already used --> close them and open them with the names given in parameters\n",
    "\n",
    "    It returns the input_port and output_port \n",
    "    \"\"\"\n",
    "\n",
    "    global input_port, output_port\n",
    "\n",
    "    #if input_port and output_port are AVAILABLE\n",
    "    try: \n",
    "        input_port = mido.open_input(input_name)\n",
    "        output_port = mido.open_output(output_name)\n",
    "\n",
    "    #if input_port and output_port are NOT AVAILABLE    \n",
    "    except Exception:\n",
    "        close_port(input_port, output_port)\n",
    "        input_port = mido.open_input(input_name)\n",
    "        output_port = mido.open_output(output_name)\n",
    "    \n",
    "    return input_port, output_port \n",
    "\n",
    "\n",
    "def close_port(input_port, output_port) -> None: \n",
    "    \"\"\" \n",
    "    Close input and output ports\n",
    "    \"\"\"\n",
    "    input_port.close()\n",
    "    output_port.close()\n",
    "\n",
    "\n",
    "def choose_ports():\n",
    "    \"\"\" \n",
    "    Create a Tkinter window in which the input and output names are displayed on your machine\n",
    "    \n",
    "    - Select ONLY one for the input by clicking inside a checkbox in the INPUTS column\n",
    "    - Select ONLY one for the ouput by clicking inside a checkbox in the OUTPUTS column\n",
    "\n",
    "    It returns the input_name and output_name selected\n",
    "    \"\"\"\n",
    "\n",
    "    def validate_checkboxes():\n",
    "        \"\"\" \n",
    "        Retrieve the names of the input and output selected by clicking inside their checkbox\n",
    "        Then it kills the Tkinter \"Inputs & Outputs\" window\n",
    "        \"\"\"\n",
    "\n",
    "        global selected_input, selected_output\n",
    "\n",
    "        input_index = [var.get() for var in input_vars].index(1)\n",
    "        selected_input = input_options[input_index]\n",
    "        output_index = [var.get() for var in output_vars].index(1)\n",
    "        selected_output = output_options[output_index]\n",
    "\n",
    "        print(f\"Input selected: '{selected_input}'\")\n",
    "        print(f\"Output selected: '{selected_output}'\")\n",
    "\n",
    "        window.destroy()\n",
    "\n",
    "\n",
    "    window = tk.Tk()\n",
    "    window.geometry(\"600x400\")\n",
    "\n",
    "    input_label = tk.Label(window, text=\"INPUTS\", font=(\"Aerial\", 20))\n",
    "    input_label.grid(row=0, column=0, sticky=\"w\")\n",
    "\n",
    "    output_label = tk.Label(window, text=\"OUTPUTS\", font=(\"Aerial\", 20))\n",
    "    output_label.grid(row=0, column=1, sticky=\"w\")\n",
    "\n",
    "    # Create the lists of input and output options available on your machine\n",
    "    input_options = mido.get_input_names()\n",
    "    output_options = mido.get_output_names()\n",
    "\n",
    "    # Create variables to track the state of the checkboxes\n",
    "    input_vars = []\n",
    "    output_vars = []\n",
    "\n",
    "    # Create checkboxes for the input options\n",
    "    for i, option in enumerate(input_options):\n",
    "        var = tk.IntVar()\n",
    "        checkbox = tk.Checkbutton(window, text=option, variable=var)\n",
    "        checkbox.grid(row=i+1, column=0, sticky=\"w\")\n",
    "        input_vars.append(var)\n",
    "\n",
    "    # Create checkboxes for the output options\n",
    "    for i, option in enumerate(output_options):\n",
    "        var = tk.IntVar()\n",
    "        checkbox = tk.Checkbutton(window, text=option, variable=var)\n",
    "        checkbox.grid(row=i+1, column=1, sticky=\"w\")\n",
    "        output_vars.append(var)\n",
    "\n",
    "    # Create the entry button to validate the checkboxes\n",
    "    button = tk.Button(window, text=\"Validate\", command=validate_checkboxes)\n",
    "    button.grid(row=max(len(input_options), len(output_options))+1, columnspan=2)\n",
    "\n",
    "    window.mainloop()\n",
    "\n",
    "    return selected_input, selected_output\n",
    "\n",
    "\n"
   ]
  },
  {
   "cell_type": "code",
   "execution_count": 20,
   "metadata": {},
   "outputs": [
    {
     "name": "stdout",
     "output_type": "stream",
     "text": [
      "Input selected: '2- KOMPLETE KONTROL - 1 2'\n",
      "Output selected: 'Microsoft GS Wavetable Synth 0'\n"
     ]
    }
   ],
   "source": [
    "input_selected, output_selected = choose_ports()"
   ]
  },
  {
   "cell_type": "code",
   "execution_count": null,
   "metadata": {},
   "outputs": [],
   "source": [
    "open_port()"
   ]
  },
  {
   "cell_type": "code",
   "execution_count": 7,
   "metadata": {},
   "outputs": [
    {
     "name": "stdout",
     "output_type": "stream",
     "text": [
      "ok\n",
      "ok\n"
     ]
    },
    {
     "data": {
      "text/plain": [
       "(<open input '2- KOMPLETE KONTROL - 1 2' (RtMidi/WINDOWS_MM)>,\n",
       " <open output 'Microsoft GS Wavetable Synth 0' (RtMidi/WINDOWS_MM)>)"
      ]
     },
     "execution_count": 7,
     "metadata": {},
     "output_type": "execute_result"
    }
   ],
   "source": [
    "open_port(input_piano, output_piano)"
   ]
  }
 ],
 "metadata": {
  "kernelspec": {
   "display_name": "venv_piano",
   "language": "python",
   "name": "python3"
  },
  "language_info": {
   "codemirror_mode": {
    "name": "ipython",
    "version": 3
   },
   "file_extension": ".py",
   "mimetype": "text/x-python",
   "name": "python",
   "nbconvert_exporter": "python",
   "pygments_lexer": "ipython3",
   "version": "3.11.7"
  }
 },
 "nbformat": 4,
 "nbformat_minor": 2
}
